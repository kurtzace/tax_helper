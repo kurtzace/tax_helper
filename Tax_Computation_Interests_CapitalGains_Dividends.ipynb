{
  "nbformat": 4,
  "nbformat_minor": 0,
  "metadata": {
    "colab": {
      "name": "Tax2020.ipynb",
      "provenance": [],
      "collapsed_sections": [],
      "authorship_tag": "ABX9TyOAtWXTzTJDnAEhb872/DwX",
      "include_colab_link": true
    },
    "kernelspec": {
      "name": "python3",
      "display_name": "Python 3"
    }
  },
  "cells": [
    {
      "cell_type": "markdown",
      "metadata": {
        "id": "view-in-github",
        "colab_type": "text"
      },
      "source": [
        "<a href=\"https://colab.research.google.com/github/kurtzace/tax_helper/blob/main/Tax_Computation_Interests_CapitalGains_Dividends.ipynb\" target=\"_parent\"><img src=\"https://colab.research.google.com/assets/colab-badge.svg\" alt=\"Open In Colab\"/></a>"
      ]
    },
    {
      "cell_type": "markdown",
      "metadata": {
        "id": "U2Vfn9VCxFsT"
      },
      "source": [
        "## Bank Statements\r\n",
        "\r\n",
        "### get interests and dividends"
      ]
    },
    {
      "cell_type": "code",
      "metadata": {
        "id": "YD_TApZds4bz",
        "colab": {
          "base_uri": "https://localhost:8080/"
        },
        "outputId": "6775456b-41b4-4196-e8a3-e0dccae32975"
      },
      "source": [
        "import pandas as pd\n",
        "deposits_bobi = pd.read_csv('deposits_bobi.csv',thousands=',')\n",
        "deposits_icici = pd.read_csv('deposits_icici.csv',thousands=',')\n",
        "deposits_hdfc = pd.read_csv('deposits_hdfc.csv',thousands=',')\n",
        "deposits_bobi.columns"
      ],
      "execution_count": null,
      "outputs": [
        {
          "output_type": "execute_result",
          "data": {
            "text/plain": [
              "Index(['DATE', 'NARRATION', 'CHQ.NO.', 'WITHDRAWAL(DR)', 'DEPOSIT(CR)',\n",
              "       'BALANCE(INR)'],\n",
              "      dtype='object')"
            ]
          },
          "metadata": {
            "tags": []
          },
          "execution_count": 14
        }
      ]
    },
    {
      "cell_type": "code",
      "metadata": {
        "colab": {
          "base_uri": "https://localhost:8080/"
        },
        "id": "UY3M0wI2BXsj",
        "outputId": "3de768eb-d6b3-4cc9-9a2c-16aadb65508a"
      },
      "source": [
        "print(deposits_icici.columns)\r\n",
        "print(deposits_hdfc.columns)"
      ],
      "execution_count": null,
      "outputs": [
        {
          "output_type": "stream",
          "text": [
            "Index(['S No.', 'Value Date', 'Transaction Date', 'Cheque Number',\n",
            "       'Transaction Remarks', 'Withdrawal Amount (INR )',\n",
            "       'Deposit Amount (INR )', 'Balance (INR )'],\n",
            "      dtype='object')\n",
            "Index(['Date', 'Narration', 'Chq./Ref.No.', 'Value Dt', 'Withdrawal Amt.',\n",
            "       'Deposit Amt.', 'Closing Balance'],\n",
            "      dtype='object')\n"
          ],
          "name": "stdout"
        }
      ]
    },
    {
      "cell_type": "code",
      "metadata": {
        "colab": {
          "base_uri": "https://localhost:8080/"
        },
        "id": "lTPW6RXwBe7g",
        "outputId": "d66d75ae-d080-4988-e1a4-828c3df31578"
      },
      "source": [
        "deposits_icici.drop(columns=['S No.','Value Date'], axis=1, inplace=True)\r\n",
        "deposits_hdfc.drop(columns=['Value Dt'], axis=1, inplace=True)\r\n",
        "print(deposits_icici.columns)\r\n",
        "print(deposits_hdfc.columns)"
      ],
      "execution_count": null,
      "outputs": [
        {
          "output_type": "stream",
          "text": [
            "Index(['Transaction Date', 'Cheque Number', 'Transaction Remarks',\n",
            "       'Withdrawal Amount (INR )', 'Deposit Amount (INR )', 'Balance (INR )'],\n",
            "      dtype='object')\n",
            "Index(['Date', 'Narration', 'Chq./Ref.No.', 'Withdrawal Amt.', 'Deposit Amt.',\n",
            "       'Closing Balance'],\n",
            "      dtype='object')\n"
          ],
          "name": "stdout"
        }
      ]
    },
    {
      "cell_type": "code",
      "metadata": {
        "id": "vxtVMU0WuJSk",
        "colab": {
          "base_uri": "https://localhost:8080/"
        },
        "outputId": "ad6bce38-cfa2-4bd2-d670-e4c22683c6ab"
      },
      "source": [
        "deposits_icici.columns=['date','chequenumber','description','debit','credit', 'balance']\n",
        "deposits_bobi.columns = ['date','description','chequenumber','debit','credit', 'balance']\n",
        "deposits_hdfc.columns=['date', 'description','chequenumber','debit','credit', 'balance']\n",
        "#deposits.replace(\"\", float(\"NaN\"), inplace=True)\n",
        "#deposits.dropna()\n",
        "\n",
        "def fixDataSet(dep):\n",
        "   dep = dep.dropna(subset=['credit']) #only looking at deposits\n",
        "   dep[\"date\"] = pd.to_datetime(dep[\"date\"], dayfirst = True)\n",
        "   dep = dep[(dep[\"date\"]>='2020-04-01' )] #within FY range\n",
        "   dep = dep[( dep[\"date\"]<='2021-03-31' )]\n",
        "\n",
        "fixDataSet(deposits_bobi)\n",
        "fixDataSet(deposits_icici)\n",
        "fixDataSet(deposits_hdfc)\n",
        "deposits_bobi.info()"
      ],
      "execution_count": null,
      "outputs": [
        {
          "output_type": "stream",
          "text": [
            "<class 'pandas.core.frame.DataFrame'>\n",
            "RangeIndex: 47 entries, 0 to 46\n",
            "Data columns (total 6 columns):\n",
            " #   Column        Non-Null Count  Dtype  \n",
            "---  ------        --------------  -----  \n",
            " 0   date          47 non-null     object \n",
            " 1   description   47 non-null     object \n",
            " 2   chequenumber  0 non-null      float64\n",
            " 3   debit         0 non-null      float64\n",
            " 4   credit        47 non-null     float64\n",
            " 5   balance       47 non-null     object \n",
            "dtypes: float64(3), object(3)\n",
            "memory usage: 2.3+ KB\n"
          ],
          "name": "stdout"
        },
        {
          "output_type": "stream",
          "text": [
            "/usr/local/lib/python3.7/dist-packages/ipykernel_launcher.py:9: SettingWithCopyWarning: \n",
            "A value is trying to be set on a copy of a slice from a DataFrame.\n",
            "Try using .loc[row_indexer,col_indexer] = value instead\n",
            "\n",
            "See the caveats in the documentation: https://pandas.pydata.org/pandas-docs/stable/user_guide/indexing.html#returning-a-view-versus-a-copy\n",
            "  if __name__ == '__main__':\n"
          ],
          "name": "stderr"
        }
      ]
    },
    {
      "cell_type": "code",
      "metadata": {
        "id": "3hU0aeVsGwF6",
        "colab": {
          "base_uri": "https://localhost:8080/"
        },
        "outputId": "88eb8099-29fb-4fa6-e6b4-b8a0aeb82c7c"
      },
      "source": [
        "deposits_icici.info()"
      ],
      "execution_count": null,
      "outputs": [
        {
          "output_type": "stream",
          "text": [
            "<class 'pandas.core.frame.DataFrame'>\n",
            "RangeIndex: 95 entries, 0 to 94\n",
            "Data columns (total 6 columns):\n",
            " #   Column        Non-Null Count  Dtype  \n",
            "---  ------        --------------  -----  \n",
            " 0   date          94 non-null     object \n",
            " 1   chequenumber  94 non-null     object \n",
            " 2   description   95 non-null     object \n",
            " 3   debit         94 non-null     float64\n",
            " 4   credit        94 non-null     float64\n",
            " 5   balance       94 non-null     float64\n",
            "dtypes: float64(3), object(3)\n",
            "memory usage: 4.6+ KB\n"
          ],
          "name": "stdout"
        }
      ]
    },
    {
      "cell_type": "code",
      "metadata": {
        "id": "NKB75OE8U3iM",
        "colab": {
          "base_uri": "https://localhost:8080/"
        },
        "outputId": "f11e072c-1398-4da1-87ae-04d506a413e5"
      },
      "source": [
        "deposits_hdfc.info()"
      ],
      "execution_count": null,
      "outputs": [
        {
          "output_type": "stream",
          "text": [
            "<class 'pandas.core.frame.DataFrame'>\n",
            "RangeIndex: 31 entries, 0 to 30\n",
            "Data columns (total 6 columns):\n",
            " #   Column        Non-Null Count  Dtype  \n",
            "---  ------        --------------  -----  \n",
            " 0   date          31 non-null     object \n",
            " 1   description   31 non-null     object \n",
            " 2   chequenumber  31 non-null     int64  \n",
            " 3   debit         0 non-null      float64\n",
            " 4   credit        31 non-null     float64\n",
            " 5   balance       31 non-null     float64\n",
            "dtypes: float64(3), int64(1), object(2)\n",
            "memory usage: 1.6+ KB\n"
          ],
          "name": "stdout"
        }
      ]
    },
    {
      "cell_type": "code",
      "metadata": {
        "id": "4brWa-zRmjc1"
      },
      "source": [
        "#fix bobi's balance either in 595.43Cr or 1,595.43Dr format\r\n",
        "deposits_bobi['balance']=pd.to_numeric(deposits_bobi['balance'].str.replace('[CD]r','').str.replace(',','').str.strip())"
      ],
      "execution_count": null,
      "outputs": []
    },
    {
      "cell_type": "code",
      "metadata": {
        "id": "6mZEMKAOl8O0"
      },
      "source": [
        "deposits =  pd.concat([deposits_bobi,deposits_hdfc,deposits_icici])"
      ],
      "execution_count": null,
      "outputs": []
    },
    {
      "cell_type": "code",
      "metadata": {
        "id": "dIgBR9OPuS4o"
      },
      "source": [
        "interests = deposits[deposits[\"description\"].str.lower().str.contains(r'int\\.') | deposits[\"description\"].str.contains(\"CREDIT INTEREST\")]"
      ],
      "execution_count": null,
      "outputs": []
    },
    {
      "cell_type": "code",
      "metadata": {
        "id": "JNV_262jJSKZ",
        "colab": {
          "base_uri": "https://localhost:8080/"
        },
        "outputId": "91227997-5c20-45e7-a6fe-72ba02cf29a0"
      },
      "source": [
        "print(\"Uncomment below for interests sum\")\r\n",
        "#interests[\"credit\"].sum()"
      ],
      "execution_count": null,
      "outputs": [
        {
          "output_type": "stream",
          "text": [
            "Uncomment below for interests sum\n"
          ],
          "name": "stdout"
        }
      ]
    },
    {
      "cell_type": "code",
      "metadata": {
        "id": "ZDRxrsLkv2M5",
        "colab": {
          "base_uri": "https://localhost:8080/"
        },
        "outputId": "63b049e0-1096-4517-cf5c-0be3732d6da6"
      },
      "source": [
        "dividends = deposits[deposits[\"description\"].str.contains(r'ACH Credit/') | deposits[\"description\"].str.contains(\"ACH/\")]\n",
        "dividends.to_csv(\"dividends.csv\")\n",
        "print(\"Uncomment below for dividends sum\")\n",
        "#dividends[\"credit\"].sum()"
      ],
      "execution_count": null,
      "outputs": [
        {
          "output_type": "stream",
          "text": [
            "Uncomment below for dividends sum\n"
          ],
          "name": "stdout"
        }
      ]
    },
    {
      "cell_type": "code",
      "metadata": {
        "id": "VLX9tRkPubiz"
      },
      "source": [
        "upiDeposits = deposits[deposits[\"description\"].str.lower().str.contains(r'UPI/') ]"
      ],
      "execution_count": null,
      "outputs": []
    },
    {
      "cell_type": "markdown",
      "metadata": {
        "id": "-XpJDYzUxKRT"
      },
      "source": [
        "## API\r\n",
        "\r\n",
        "### example get dividents from Yahoo for POKARNA of NSE"
      ]
    },
    {
      "cell_type": "code",
      "metadata": {
        "id": "e7KEvBJPzWey"
      },
      "source": [
        "import requests"
      ],
      "execution_count": null,
      "outputs": []
    },
    {
      "cell_type": "code",
      "metadata": {
        "colab": {
          "base_uri": "https://localhost:8080/"
        },
        "id": "1usMHkuSxmIy",
        "outputId": "5e2d2247-7e78-4906-d602-1941563f8ba1"
      },
      "source": [
        "## get dividents from Yahoo\r\n",
        "range = '1y'\r\n",
        "components = ['NS','POKARNA']\r\n",
        "url = f'https://query1.finance.yahoo.com/v8/finance/chart/{components[1]}.{components[0]}?formatted=true&crumb=aCUA41Ad5Lt&lang=en-US&region=US&interval=3mo&events=div|split&range={range}&corsDomain=finance.yahoo.com'\r\n",
        "r = requests.get(url)\r\n",
        "r.json()['chart']['result'][0]['events']"
      ],
      "execution_count": null,
      "outputs": [
        {
          "output_type": "execute_result",
          "data": {
            "text/plain": [
              "{'dividends': {'1598898600': {'amount': 0.6, 'date': 1600659900},\n",
              "  '1606761000': {'amount': 0.6, 'date': 1600746300}}}"
            ]
          },
          "metadata": {
            "tags": []
          },
          "execution_count": 66
        }
      ]
    },
    {
      "cell_type": "markdown",
      "metadata": {
        "id": "ZXf3xvGF1n47"
      },
      "source": [
        "## get rate on 31st Jan 2018\r\n",
        "[Reason](https://learn.quicko.com/long-term-capital-gain-tax-equity-shares)"
      ]
    },
    {
      "cell_type": "code",
      "metadata": {
        "colab": {
          "base_uri": "https://localhost:8080/"
        },
        "id": "Vfd8cCIH1xQ7",
        "outputId": "9ecfcdef-f60f-41a2-ab4f-af074cf82ead"
      },
      "source": [
        "url = f'https://query2.finance.yahoo.com/v8/finance/chart/{components[1]}.{components[0]}?formatted=true&crumb=svKKlabb5h2&lang=en-IN&region=IN&includeAdjustedClose=true&interval=1d&period1=1517356800&period2=1517443200&events=div|split&useYfid=true&corsDomain=in.finance.yahoo.com'\r\n",
        "\r\n",
        "r = requests.get(url)\r\n",
        "r.json()['chart']['result'][0]['indicators']['quote']"
      ],
      "execution_count": null,
      "outputs": [
        {
          "output_type": "execute_result",
          "data": {
            "text/plain": [
              "[{'close': [218.75],\n",
              "  'high': [222.0],\n",
              "  'low': [215.0],\n",
              "  'open': [220.64999389648438],\n",
              "  'volume': [25980]}]"
            ]
          },
          "metadata": {
            "tags": []
          },
          "execution_count": 71
        }
      ]
    }
  ]
}